{
 "cells": [
  {
   "attachments": {},
   "cell_type": "markdown",
   "id": "ad2af86b4340174f",
   "metadata": {
    "collapsed": false
   },
   "source": [
    "# ECSE 415: Final Project\n",
    "Mathieu Geoffroy, 260986559\n",
    "Ryan Reszetnik, 260948454\n",
    "\n",
    "\n",
    "December 5th, 2023"
   ]
  },
  {
   "cell_type": "code",
   "execution_count": null,
   "id": "initial_id",
   "metadata": {
    "ExecuteTime": {
     "end_time": "2023-12-05T21:47:11.863560Z",
     "start_time": "2023-12-05T21:47:11.840804Z"
    },
    "collapsed": true
   },
   "outputs": [],
   "source": [
    "import numpy as np\n",
    "import cv2\n",
    "import os\n",
    "from ultralytics import YOLO\n",
    "import torch\n",
    "from collections import defaultdict\n",
    "import matplotlib.pyplot as plt\n",
    "\n",
    "working_dir = os.path.curdir"
   ]
  },
  {
   "cell_type": "code",
   "execution_count": null,
   "id": "193e7a88fef77a6",
   "metadata": {
    "ExecuteTime": {
     "end_time": "2023-12-05T21:47:11.964289Z",
     "start_time": "2023-12-05T21:47:11.844061Z"
    },
    "collapsed": false
   },
   "outputs": [],
   "source": [
    "device = \"cuda\" if torch.cuda.is_available() else \"mps\" if torch.backends.mps.is_available() else \"cpu\"\n",
    "\n",
    "model = YOLO('yolov8n.pt').to(device)\n",
    "\n",
    "# import YOLO labels from the dataset\n",
    "yolo_labels = model.names\n",
    "\n",
    "FRAME_SIZE=  (1440, 2562) # (height, width)"
   ]
  },
  {
   "cell_type": "code",
   "execution_count": null,
   "id": "31d00d58",
   "metadata": {
    "ExecuteTime": {
     "end_time": "2023-12-05T21:47:11.964405Z",
     "start_time": "2023-12-05T21:47:11.959879Z"
    }
   },
   "outputs": [],
   "source": [
    "def calc_flow(img1,img2):\n",
    "    img1_gray = cv2.cvtColor(img1, cv2.COLOR_BGR2GRAY)\n",
    "    img2_gray = cv2.cvtColor(img2, cv2.COLOR_BGR2GRAY)\n",
    "    return cv2.calcOpticalFlowFarneback(prev=img1_gray, \n",
    "                                    next=img2_gray, \n",
    "                                    flow=None,\n",
    "                                    pyr_scale=0.5, \n",
    "                                    levels=3, \n",
    "                                    winsize=15,\n",
    "                                    iterations=3, \n",
    "                                    poly_n=5, \n",
    "                                    poly_sigma=1.2, \n",
    "                                    flags=0)\n",
    "def draw_flow(img, flow, step=16):\n",
    "    h, w = img.shape[:2]\n",
    "    y, x = np.mgrid[step/2:h:step, step/2:w:step].reshape(2,-1).astype(int)\n",
    "    fx, fy = flow[y,x].T\n",
    "    lines = np.vstack([x, y, x+fx, y+fy]).T.reshape(-1, 2, 2)\n",
    "    lines = np.int32(lines + 0.5)\n",
    "    vis = img.copy()#cv2.cvtColor(img, cv2.COLOR_GRAY2BGR)\n",
    "    cv2.polylines(vis, lines, 0, (0, 255, 0))\n",
    "    for (x1, y1), (x2, y2) in lines:\n",
    "        cv2.circle(vis, (x1, y1), 1, (0, 255, 0), -1)\n",
    "    return vis"
   ]
  },
  {
   "cell_type": "code",
   "execution_count": null,
   "id": "441e27ee",
   "metadata": {
    "ExecuteTime": {
     "end_time": "2023-12-05T21:47:11.965095Z",
     "start_time": "2023-12-05T21:47:11.963451Z"
    }
   },
   "outputs": [],
   "source": [
    "def get_actual_speed(positions):\n",
    "    new_pos = []\n",
    "    #cap positions at 50 last positions\n",
    "    # if len(positions) > 50:\n",
    "    #     positions = positions[-50:]\n",
    "    for i in range(len(positions)):\n",
    "        new_pos.append((positions[i][0].numpy(),positions[i][1].numpy()))\n",
    "    new_pos = np.array(new_pos)\n",
    "    speed = []\n",
    "    for j in range(len(new_pos)-1):\n",
    "        speed.append(np.sqrt((new_pos[j][0]-new_pos[j+1][0])**2+(new_pos[j][1]-new_pos[j+1][1])**2))\n",
    "    speed = np.array(speed)\n",
    "    new_pos = 1250-new_pos[:-1,0]\n",
    "    speed = speed/(new_pos**2+abs(new_pos*speed)) * 1000000\n",
    "    #median filter of size 3\n",
    "    median_speed = []\n",
    "    median_size = 5\n",
    "    if len(speed) < median_size:\n",
    "        return np.mean(speed)\n",
    "    for i in range(len(speed)-median_size+1):\n",
    "        median_speed.append(np.median(speed[i:i+median_size]))\n",
    "    median_speed = np.array(median_speed)\n",
    "    return np.mean(median_speed)\n",
    "\n",
    "\n",
    "def is_moving(speed,predicted_speed):\n",
    "    return speed > 1.5*predicted_speed\n",
    "\n"
   ]
  },
  {
   "cell_type": "code",
   "execution_count": null,
   "id": "27abe2d87ca33460",
   "metadata": {
    "ExecuteTime": {
     "end_time": "2023-12-05T21:48:22.256738Z",
     "start_time": "2023-12-05T21:48:22.249515Z"
    },
    "collapsed": false
   },
   "outputs": [],
   "source": [
    "# Open the video file\n",
    "def analyze_video(video_path, display=True, save=True):\n",
    "    cap = cv2.VideoCapture(video_path)\n",
    "\n",
    "    video_name = video_path.split('/')[-1].split('.')[0]\n",
    "    \n",
    "    out = cv2.VideoWriter(f'{video_name}_analyzed.mp4',cv2.VideoWriter_fourcc('m','p','4','v'), 30, (int(cap.get(3)),int(cap.get(4))))\n",
    "    \n",
    "    # Store the track history\n",
    "    track_history = defaultdict(lambda: [])\n",
    "    moving_history = defaultdict(lambda: [])\n",
    "    \n",
    "    people_count = 0\n",
    "\n",
    "    predicted_speed = 30\n",
    "    \n",
    "    # Loop through the video frames\n",
    "    frame_count = 0\n",
    "\n",
    "    while cap.isOpened():\n",
    "        # Read a frame from the video\n",
    "        success, frame = cap.read()\n",
    "        # print(frame.shape)\n",
    "        # flow = calc_flow(prev_frame, frame)\n",
    "        # print(flow.shape)\n",
    "        frame_count += 1\n",
    "        # if frame_count == 90:\n",
    "        #     success = False\n",
    "        print(\"frame count\", frame_count)\n",
    "        if success:\n",
    "            # Run YOLOv8 tracking on the frame, persisting tracks between frames\n",
    " \n",
    "            #disable the print statement in the track function\n",
    "            results = model.track(frame, persist=True,verbose=False)\n",
    "    \n",
    "            # Get the boxes, masks, track IDs, class, for the frame\n",
    "            boxes = results[0].boxes.xywh.cpu()\n",
    "            track_ids = results[0].boxes.id.int().cpu().tolist()\n",
    "            classes = results[0].boxes.cls.int().cpu().tolist()\n",
    "            # Visualize the results on the frame\n",
    "            annotated_frame = results[0].plot()\n",
    "            \n",
    "            # Plot the tracks\n",
    "            for box,track_id,cls in zip(boxes, track_ids,classes):\n",
    "                if yolo_labels[cls] == 'person' and track_id not in track_history:\n",
    "                    people_count += 1\n",
    "                x, y, w, h = box\n",
    "                track = track_history[track_id]\n",
    "                track.append((x, y))  # x, y center point\n",
    "                if len(track) > 30:  # retain 90 tracks for 90 frames\n",
    "                    track.pop(0)\n",
    "                #detect if the bounding box is touching the edge of the frame   \n",
    "                touching_edge =  x-w/2 <10 or x+w/2 > FRAME_SIZE[1] or y-h/2 < 0 or y+h/2 > FRAME_SIZE[0]\n",
    "                obj_speed = get_actual_speed(track)\n",
    "                if  yolo_labels[cls] == 'fire hydrant' and not np.isnan(obj_speed) and not touching_edge: \n",
    "                    predicted_speed = 29/30*predicted_speed + 1/30*obj_speed\n",
    "                # set obj_speed to zero if it is Nan\n",
    "                if np.isnan(obj_speed):\n",
    "                    obj_speed = 0\n",
    "                \n",
    "                moving_pred = is_moving(obj_speed,predicted_speed)\n",
    "                if yolo_labels[cls] == 'car':\n",
    "                    moving_history[track_id]=moving_pred\n",
    "                if obj_speed > 0 and not moving_pred and not np.isnan(obj_speed) and not touching_edge:\n",
    "                    predicted_speed = 59/60*predicted_speed + 1/60*obj_speed\n",
    "               \n",
    "                text = \"moving \"+str(int(obj_speed)) if moving_pred else \"stationary \"+str(int(obj_speed))\n",
    "                \n",
    "                cv2.putText(annotated_frame, text, (int(x-w/2), int(y+h/2)), cv2.FONT_HERSHEY_SIMPLEX, 1, (255,255,255), 2)\n",
    "               \n",
    "            num_moving = 0\n",
    "            num_parked = 0\n",
    "            for track_id in moving_history:\n",
    "                if moving_history[track_id]:\n",
    "                    num_moving += 1\n",
    "                else:\n",
    "                    num_parked += 1\n",
    "            # Display the number of people\n",
    "            cv2.putText(annotated_frame, f\"Number of people: {people_count}\", (50, 50), cv2.FONT_HERSHEY_SIMPLEX, 1, (255, 255, 255), 2)\n",
    "\n",
    "            # Display the number of moving cars\n",
    "            cv2.putText(annotated_frame, f\"Number of moving cars: {num_moving}\", (50, 100), cv2.FONT_HERSHEY_SIMPLEX, 1, (255, 255, 255), 2)\n",
    "\n",
    "            # Display the number of parked cars\n",
    "            cv2.putText(annotated_frame, f\"Number of parked cars: {num_parked}\", (50, 150), cv2.FONT_HERSHEY_SIMPLEX, 1, (255, 255, 255), 2)\n",
    "            \n",
    "            # Display the predicted speed\n",
    "            cv2.putText(annotated_frame, f\"Speed: {predicted_speed} km/h\", (50, 200), cv2.FONT_HERSHEY_SIMPLEX, 1, (255, 255, 255), 2)\n",
    "            \n",
    "            # Display the annotated frame\n",
    "            cv2.imshow(f'Tracking {video_name}', annotated_frame) if display else None\n",
    "\n",
    "            # save the annotated frame to a new video\n",
    "            out.write(annotated_frame) if save else None\n",
    "            if cv2.waitKey(1) & 0xFF == ord(\"q\"):\n",
    "                break\n",
    "        else:\n",
    "            # Break the loop if the end of the video is reached\n",
    "            break\n",
    "    \n",
    "    # Release the video capture object and close the display window\n",
    "    cap.release()\n",
    "    out.release()\n",
    "    cv2.destroyAllWindows()    "
   ]
  },
  {
   "cell_type": "code",
   "execution_count": null,
   "id": "1645367a6b6a9a5c",
   "metadata": {
    "ExecuteTime": {
     "start_time": "2023-12-05T21:48:22.617725Z"
    },
    "collapsed": false,
    "is_executing": true
   },
   "outputs": [],
   "source": [
    "analyze_video(working_dir + '/mcgill_drive.mp4', display=True, save=True)\n",
    "# analyze_video(working_dir + '/st-catherines_drive.mp4', display=True, save=True)"
   ]
  },
  {
   "cell_type": "code",
   "execution_count": null,
   "id": "a7b18ee2",
   "metadata": {
    "ExecuteTime": {
     "start_time": "2023-12-05T21:47:12.263107Z"
    }
   },
   "outputs": [],
   "source": [
    "\n",
    "\n",
    "\n",
    "\n",
    "\n",
    "# moving_ids = [\n",
    "#     3,5,6,7,10,11,19,30,31,42,45,46,50,63,64,69,75,94,106,119,121,122,135,141,147,149\n",
    "# ]\n",
    "# stopped_ids = [\n",
    "#     1,2,25,83,87,91,92,95,109,112,133,150,153,155,156,154\n",
    "# ]\n",
    "\n",
    "all_ids = object_positions.keys()\n",
    "all_speeds = [get_actual_speed(object_positions[i]) for i in object_positions.keys()]\n",
    "\n",
    "CUTOFF = 0.05\n",
    "\n",
    "\n",
    "print(all_speeds)\n",
    "print(\"MOVING\")\n",
    "for i in range(len(all_speeds)):\n",
    "    if all_speeds[i] > CUTOFF:\n",
    "        print(all_ids[i],all_speeds[i])\n",
    "\n",
    "print(\"STOPPED\")\n",
    "for i in range(len(all_speeds)):\n",
    "    if all_speeds[i] <= CUTOFF:\n",
    "        print(all_ids[i],all_speeds[i])\n",
    "\n",
    "\n",
    "# moving_speeds = [get_actual_speed(object_positions[i]) for i in moving_ids]\n",
    "# stopped_speeds = [get_actual_speed(object_positions[i]) for i in stopped_ids]\n",
    "\n",
    "# #get average speed of moving objects\n",
    "# moving_speeds = np.array(moving_speeds)\n",
    "# #get average speed of stopped objects\n",
    "# stopped_speeds = np.array(stopped_speeds)\n",
    "\n",
    "# print(moving_speeds,stopped_speeds)\n",
    "\n",
    "# #plot the speed of moving objects\n",
    "# plt.plot(moving_speeds)\n",
    "# plt.title(\"Speed of moving objects\")\n",
    "# plt.xlabel(\"Frame\")\n",
    "# plt.ylabel(\"Speed (km/h)\")\n",
    "# plt.show()\n",
    "\n",
    "# #plot the speed of stopped objects\n",
    "# plt.plot(stopped_speeds)\n",
    "# plt.title(\"Speed of stopped objects\")\n",
    "# plt.xlabel(\"Frame\")\n",
    "# plt.ylabel(\"Speed (km/h)\")\n",
    "# plt.show()\n",
    "# #0.09 cutoff\n",
    "\n",
    "\n",
    "# print(max(stopped_speeds),min(moving_speeds))\n",
    "# print(moving_speeds)\n"
   ]
  }
 ],
 "metadata": {
  "kernelspec": {
   "display_name": "Python 3",
   "language": "python",
   "name": "python3"
  },
  "language_info": {
   "codemirror_mode": {
    "name": "ipython",
    "version": 3
   },
   "file_extension": ".py",
   "mimetype": "text/x-python",
   "name": "python",
   "nbconvert_exporter": "python",
   "pygments_lexer": "ipython3",
   "version": "3.11.2"
  }
 },
 "nbformat": 4,
 "nbformat_minor": 5
}
