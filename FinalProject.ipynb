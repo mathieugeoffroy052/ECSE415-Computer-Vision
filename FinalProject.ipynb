{
 "cells": [
  {
   "cell_type": "markdown",
   "source": [
    "# ECSE 415: Final Project\n",
    "Mathieu Geoffroy, 260986559\n",
    "Ryan Reszetnik, 260948454\n",
    "\n",
    "\n",
    "December 5th, 2023"
   ],
   "metadata": {
    "collapsed": false
   },
   "id": "ad2af86b4340174f"
  },
  {
   "cell_type": "code",
   "execution_count": 6,
   "id": "initial_id",
   "metadata": {
    "collapsed": true,
    "ExecuteTime": {
     "end_time": "2023-11-23T20:11:49.159294Z",
     "start_time": "2023-11-23T20:11:49.157735Z"
    }
   },
   "outputs": [],
   "source": [
    "import numpy as np\n",
    "import cv2\n",
    "import matplotlib.pyplot as plt\n",
    "import os\n",
    "\n",
    "working_dir = os.path.curdir"
   ]
  },
  {
   "cell_type": "code",
   "execution_count": 5,
   "outputs": [],
   "source": [
    "# load videos\n",
    "video_mcgill = cv2.VideoCapture(os.path.join(working_dir, 'mcgill_drive.mp4'))\n",
    "video_stcat = cv2.VideoCapture(os.path.join(working_dir, 'st-catherines_drive.mp4'))"
   ],
   "metadata": {
    "collapsed": false,
    "ExecuteTime": {
     "end_time": "2023-11-23T20:11:47.426505Z",
     "start_time": "2023-11-23T20:11:47.347518Z"
    }
   },
   "id": "51580e68b3527145"
  }
 ],
 "metadata": {
  "kernelspec": {
   "display_name": "Python 3",
   "language": "python",
   "name": "python3"
  },
  "language_info": {
   "codemirror_mode": {
    "name": "ipython",
    "version": 2
   },
   "file_extension": ".py",
   "mimetype": "text/x-python",
   "name": "python",
   "nbconvert_exporter": "python",
   "pygments_lexer": "ipython2",
   "version": "2.7.6"
  }
 },
 "nbformat": 4,
 "nbformat_minor": 5
}
